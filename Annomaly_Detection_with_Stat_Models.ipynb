{
  "nbformat": 4,
  "nbformat_minor": 0,
  "metadata": {
    "colab": {
      "name": "Annomaly-Detection with Stat-Models.ipynb",
      "provenance": []
    },
    "kernelspec": {
      "name": "python3",
      "display_name": "Python 3"
    }
  },
  "cells": [
    {
      "cell_type": "code",
      "metadata": {
        "id": "oG0QtwiY5Z94",
        "colab_type": "code",
        "colab": {}
      },
      "source": [
        "# Time Series Analysis for Stat Modeling"
      ],
      "execution_count": null,
      "outputs": []
    },
    {
      "cell_type": "code",
      "metadata": {
        "id": "Kwvaa8FH57sk",
        "colab_type": "code",
        "colab": {}
      },
      "source": [
        "import numpy as np"
      ],
      "execution_count": null,
      "outputs": []
    },
    {
      "cell_type": "code",
      "metadata": {
        "id": "8hbVX6-i6ABM",
        "colab_type": "code",
        "colab": {}
      },
      "source": [
        "from random import random # Random is the Library which is used for Stat Model"
      ],
      "execution_count": null,
      "outputs": []
    },
    {
      "cell_type": "code",
      "metadata": {
        "id": "jm0S90qs6Gxr",
        "colab_type": "code",
        "colab": {}
      },
      "source": [
        "timeseries = [2*x + random() for x in range(1,100)]"
      ],
      "execution_count": null,
      "outputs": []
    },
    {
      "cell_type": "code",
      "metadata": {
        "id": "XKKD0nmy6aWW",
        "colab_type": "code",
        "colab": {
          "base_uri": "https://localhost:8080/",
          "height": 283
        },
        "outputId": "96b26bba-15f9-45b1-d3f7-fa86f7e3182c"
      },
      "source": [
        "import matplotlib.pyplot as plt\n",
        "plt.plot(timeseries)"
      ],
      "execution_count": null,
      "outputs": [
        {
          "output_type": "execute_result",
          "data": {
            "text/plain": [
              "[<matplotlib.lines.Line2D at 0x7f24c29a01d0>]"
            ]
          },
          "metadata": {
            "tags": []
          },
          "execution_count": 4
        },
        {
          "output_type": "display_data",
          "data": {
            "image/png": "[encoded data removed]",
            "text/plain": [
              "<Figure size 432x288 with 1 Axes>"
            ]
          },
          "metadata": {
            "tags": [],
            "needs_background": "light"
          }
        }
      ]
    },
    {
      "cell_type": "code",
      "metadata": {
        "id": "V5M8ZG4d6pkb",
        "colab_type": "code",
        "colab": {}
      },
      "source": [
        "# How to Work with Statistical Modeling"
      ],
      "execution_count": null,
      "outputs": []
    },
    {
      "cell_type": "code",
      "metadata": {
        "id": "NLGgHVpq6sK5",
        "colab_type": "code",
        "colab": {
          "base_uri": "https://localhost:8080/",
          "height": 74
        },
        "outputId": "922fdbfc-73af-4a52-9dd8-3ae12c25168c"
      },
      "source": [
        "from statsmodels.tsa.ar_model import AR"
      ],
      "execution_count": null,
      "outputs": [
        {
          "output_type": "stream",
          "text": [
            "/usr/local/lib/python3.6/dist-packages/statsmodels/tools/_testing.py:19: FutureWarning: pandas.util.testing is deprecated. Use the functions in the public API at pandas.testing instead.\n",
            "  import pandas.util.testing as tm\n"
          ],
          "name": "stderr"
        }
      ]
    },
    {
      "cell_type": "code",
      "metadata": {
        "id": "Va5wUYrr7MH0",
        "colab_type": "code",
        "colab": {
          "base_uri": "https://localhost:8080/",
          "height": 35
        },
        "outputId": "11aa9706-a20f-49b0-ba70-3a99c314d1f0"
      },
      "source": [
        "model = AR(timeseries)\n",
        "model_fit = model.fit()\n",
        "y = model_fit.predict(len(timeseries),len(timeseries))\n",
        "print(y)"
      ],
      "execution_count": null,
      "outputs": [
        {
          "output_type": "stream",
          "text": [
            "[200.75189429]\n"
          ],
          "name": "stdout"
        }
      ]
    },
    {
      "cell_type": "code",
      "metadata": {
        "id": "hxQr2HkU71Cp",
        "colab_type": "code",
        "colab": {
          "base_uri": "https://localhost:8080/",
          "height": 90
        },
        "outputId": "dee2b1f6-11ae-4fc2-e8e1-7185a381b8cf"
      },
      "source": [
        "model_fit.params"
      ],
      "execution_count": null,
      "outputs": [
        {
          "output_type": "execute_result",
          "data": {
            "text/plain": [
              "array([ 1.15444050e+01,  1.98639795e-01,  1.02040689e-01,  1.32974714e-01,\n",
              "        2.81286977e-02,  6.62067765e-02,  3.23137600e-02,  9.32691530e-02,\n",
              "       -1.13871021e-02,  1.07165750e-01,  1.02333528e-01, -1.52057687e-02,\n",
              "        1.63777323e-01])"
            ]
          },
          "metadata": {
            "tags": []
          },
          "execution_count": 9
        }
      ]
    },
    {
      "cell_type": "code",
      "metadata": {
        "id": "UwaEw7fQ8Nq4",
        "colab_type": "code",
        "colab": {}
      },
      "source": [
        "#ARIMA Model: \"Auto Regressive Integrated Moving Average\""
      ],
      "execution_count": null,
      "outputs": []
    },
    {
      "cell_type": "code",
      "metadata": {
        "id": "_8PoooYs8Zy6",
        "colab_type": "code",
        "colab": {}
      },
      "source": [
        "from statsmodels.tsa.arima_model import ARMA"
      ],
      "execution_count": null,
      "outputs": []
    },
    {
      "cell_type": "code",
      "metadata": {
        "id": "h6l6079W8hGL",
        "colab_type": "code",
        "colab": {
          "base_uri": "https://localhost:8080/",
          "height": 35
        },
        "outputId": "92d47458-4562-49c1-847e-fb55e4d3e418"
      },
      "source": [
        "model = ARMA(timeseries , order=(0,1))\n",
        "model_fit = model.fit(disp=False)\n",
        "y = model_fit.predict(len(timeseries),len(timeseries))\n",
        "print(y)"
      ],
      "execution_count": null,
      "outputs": [
        {
          "output_type": "stream",
          "text": [
            "[150.81588091]\n"
          ],
          "name": "stdout"
        }
      ]
    },
    {
      "cell_type": "code",
      "metadata": {
        "id": "mtFqc4YU9D93",
        "colab_type": "code",
        "colab": {
          "base_uri": "https://localhost:8080/",
          "height": 35
        },
        "outputId": "f41ecdfe-4a3d-4d2c-9cd5-93297bfcb22c"
      },
      "source": [
        "model_fit.params"
      ],
      "execution_count": null,
      "outputs": [
        {
          "output_type": "execute_result",
          "data": {
            "text/plain": [
              "array([100.63812602,   0.99999793])"
            ]
          },
          "metadata": {
            "tags": []
          },
          "execution_count": 12
        }
      ]
    },
    {
      "cell_type": "markdown",
      "metadata": {
        "id": "_vwJbeEP9a0X",
        "colab_type": "text"
      },
      "source": [
        "ARIMA vss Holtwinter "
      ]
    },
    {
      "cell_type": "code",
      "metadata": {
        "id": "exbecIgq-Oy3",
        "colab_type": "code",
        "colab": {
          "base_uri": "https://localhost:8080/",
          "height": 35
        },
        "outputId": "6e3f2c2d-c616-4ba7-e54d-ba559aaf26ed"
      },
      "source": [
        "from statsmodels.tsa.holtwinters import SimpleExpSmoothing\n",
        "model = SimpleExpSmoothing(timeseries)\n",
        "model_fit = model.fit()\n",
        "y = model_fit.predict(len(timeseries),len(timeseries))\n",
        "print(y)\n"
      ],
      "execution_count": null,
      "outputs": [
        {
          "output_type": "stream",
          "text": [
            "[198.54731145]\n"
          ],
          "name": "stdout"
        }
      ]
    },
    {
      "cell_type": "code",
      "metadata": {
        "id": "0dhlh8_S-kzk",
        "colab_type": "code",
        "colab": {
          "base_uri": "https://localhost:8080/",
          "height": 199
        },
        "outputId": "94e4b519-d9a1-410f-e4fd-1a1bea300ca4"
      },
      "source": [
        "model_fit.params"
      ],
      "execution_count": null,
      "outputs": [
        {
          "output_type": "execute_result",
          "data": {
            "text/plain": [
              "{'damping_slope': nan,\n",
              " 'initial_level': 2.5259492636693763,\n",
              " 'initial_seasons': array([], dtype=float64),\n",
              " 'initial_slope': nan,\n",
              " 'lamda': None,\n",
              " 'remove_bias': False,\n",
              " 'smoothing_level': 1.0,\n",
              " 'smoothing_seasonal': nan,\n",
              " 'smoothing_slope': nan,\n",
              " 'use_boxcox': False}"
            ]
          },
          "metadata": {
            "tags": []
          },
          "execution_count": 15
        }
      ]
    },
    {
      "cell_type": "code",
      "metadata": {
        "id": "qqlFhRSi_FS1",
        "colab_type": "code",
        "colab": {}
      },
      "source": [
        "import pandas as pd"
      ],
      "execution_count": null,
      "outputs": []
    },
    {
      "cell_type": "code",
      "metadata": {
        "id": "DlEvd5c-_H0S",
        "colab_type": "code",
        "colab": {}
      },
      "source": [
        "random_seed = np.random.RandomState(10)"
      ],
      "execution_count": null,
      "outputs": []
    },
    {
      "cell_type": "code",
      "metadata": {
        "id": "dicPoXOT_Vxb",
        "colab_type": "code",
        "colab": {
          "base_uri": "https://localhost:8080/",
          "height": 145
        },
        "outputId": "b7157b2b-5439-48e6-d484-f29a284570ab"
      },
      "source": [
        "X_train = 0.5 * random_seed.randn(500,2)\n",
        "X_train = np.r_[X_train + 3 , X_train]\n",
        "X_train"
      ],
      "execution_count": null,
      "outputs": [
        {
          "output_type": "execute_result",
          "data": {
            "text/plain": [
              "array([[ 3.66579325,  3.35763949],\n",
              "       [ 2.22729985,  2.99580808],\n",
              "       [ 3.31066799,  2.63995722],\n",
              "       ...,\n",
              "       [-0.08017853, -0.50716959],\n",
              "       [-0.16591387,  0.7203487 ],\n",
              "       [-0.19510893,  0.32122531]])"
            ]
          },
          "metadata": {
            "tags": []
          },
          "execution_count": 18
        }
      ]
    },
    {
      "cell_type": "code",
      "metadata": {
        "id": "fdNnOwLV_kKs",
        "colab_type": "code",
        "colab": {
          "base_uri": "https://localhost:8080/",
          "height": 407
        },
        "outputId": "1dc837ef-1825-4801-fa1b-7f2b00317f5d"
      },
      "source": [
        "X_train = pd.DataFrame(X_train,columns=['x','y'])\n",
        "X_train"
      ],
      "execution_count": null,
      "outputs": [
        {
          "output_type": "execute_result",
          "data": {
            "text/html": [
              "<div>\n",
              "<style scoped>\n",
              "    .dataframe tbody tr th:only-of-type {\n",
              "        vertical-align: middle;\n",
              "    }\n",
              "\n",
              "    .dataframe tbody tr th {\n",
              "        vertical-align: top;\n",
              "    }\n",
              "\n",
              "    .dataframe thead th {\n",
              "        text-align: right;\n",
              "    }\n",
              "</style>\n",
              "<table border=\"1\" class=\"dataframe\">\n",
              "  <thead>\n",
              "    <tr style=\"text-align: right;\">\n",
              "      <th></th>\n",
              "      <th>x</th>\n",
              "      <th>y</th>\n",
              "    </tr>\n",
              "  </thead>\n",
              "  <tbody>\n",
              "    <tr>\n",
              "      <th>0</th>\n",
              "      <td>3.665793</td>\n",
              "      <td>3.357639</td>\n",
              "    </tr>\n",
              "    <tr>\n",
              "      <th>1</th>\n",
              "      <td>2.227300</td>\n",
              "      <td>2.995808</td>\n",
              "    </tr>\n",
              "    <tr>\n",
              "      <th>2</th>\n",
              "      <td>3.310668</td>\n",
              "      <td>2.639957</td>\n",
              "    </tr>\n",
              "    <tr>\n",
              "      <th>3</th>\n",
              "      <td>3.132756</td>\n",
              "      <td>3.054274</td>\n",
              "    </tr>\n",
              "    <tr>\n",
              "      <th>4</th>\n",
              "      <td>3.002146</td>\n",
              "      <td>2.912700</td>\n",
              "    </tr>\n",
              "    <tr>\n",
              "      <th>...</th>\n",
              "      <td>...</td>\n",
              "      <td>...</td>\n",
              "    </tr>\n",
              "    <tr>\n",
              "      <th>995</th>\n",
              "      <td>0.196067</td>\n",
              "      <td>-0.947297</td>\n",
              "    </tr>\n",
              "    <tr>\n",
              "      <th>996</th>\n",
              "      <td>-0.170756</td>\n",
              "      <td>0.034887</td>\n",
              "    </tr>\n",
              "    <tr>\n",
              "      <th>997</th>\n",
              "      <td>-0.080179</td>\n",
              "      <td>-0.507170</td>\n",
              "    </tr>\n",
              "    <tr>\n",
              "      <th>998</th>\n",
              "      <td>-0.165914</td>\n",
              "      <td>0.720349</td>\n",
              "    </tr>\n",
              "    <tr>\n",
              "      <th>999</th>\n",
              "      <td>-0.195109</td>\n",
              "      <td>0.321225</td>\n",
              "    </tr>\n",
              "  </tbody>\n",
              "</table>\n",
              "<p>1000 rows × 2 columns</p>\n",
              "</div>"
            ],
            "text/plain": [
              "            x         y\n",
              "0    3.665793  3.357639\n",
              "1    2.227300  2.995808\n",
              "2    3.310668  2.639957\n",
              "3    3.132756  3.054274\n",
              "4    3.002146  2.912700\n",
              "..        ...       ...\n",
              "995  0.196067 -0.947297\n",
              "996 -0.170756  0.034887\n",
              "997 -0.080179 -0.507170\n",
              "998 -0.165914  0.720349\n",
              "999 -0.195109  0.321225\n",
              "\n",
              "[1000 rows x 2 columns]"
            ]
          },
          "metadata": {
            "tags": []
          },
          "execution_count": 20
        }
      ]
    },
    {
      "cell_type": "code",
      "metadata": {
        "id": "D5rgyObe_zGx",
        "colab_type": "code",
        "colab": {
          "base_uri": "https://localhost:8080/",
          "height": 407
        },
        "outputId": "38a96014-b237-4cdc-8a97-ba519d6abe28"
      },
      "source": [
        "X_test = 0.5 * random_seed.randn(500,2)\n",
        "X_test = np.r_[X_train + 3 , X_train]\n",
        "X_test = pd.DataFrame(X_test,columns=['x','y'])\n",
        "X_test\n"
      ],
      "execution_count": null,
      "outputs": [
        {
          "output_type": "execute_result",
          "data": {
            "text/html": [
              "<div>\n",
              "<style scoped>\n",
              "    .dataframe tbody tr th:only-of-type {\n",
              "        vertical-align: middle;\n",
              "    }\n",
              "\n",
              "    .dataframe tbody tr th {\n",
              "        vertical-align: top;\n",
              "    }\n",
              "\n",
              "    .dataframe thead th {\n",
              "        text-align: right;\n",
              "    }\n",
              "</style>\n",
              "<table border=\"1\" class=\"dataframe\">\n",
              "  <thead>\n",
              "    <tr style=\"text-align: right;\">\n",
              "      <th></th>\n",
              "      <th>x</th>\n",
              "      <th>y</th>\n",
              "    </tr>\n",
              "  </thead>\n",
              "  <tbody>\n",
              "    <tr>\n",
              "      <th>0</th>\n",
              "      <td>6.665793</td>\n",
              "      <td>6.357639</td>\n",
              "    </tr>\n",
              "    <tr>\n",
              "      <th>1</th>\n",
              "      <td>5.227300</td>\n",
              "      <td>5.995808</td>\n",
              "    </tr>\n",
              "    <tr>\n",
              "      <th>2</th>\n",
              "      <td>6.310668</td>\n",
              "      <td>5.639957</td>\n",
              "    </tr>\n",
              "    <tr>\n",
              "      <th>3</th>\n",
              "      <td>6.132756</td>\n",
              "      <td>6.054274</td>\n",
              "    </tr>\n",
              "    <tr>\n",
              "      <th>4</th>\n",
              "      <td>6.002146</td>\n",
              "      <td>5.912700</td>\n",
              "    </tr>\n",
              "    <tr>\n",
              "      <th>...</th>\n",
              "      <td>...</td>\n",
              "      <td>...</td>\n",
              "    </tr>\n",
              "    <tr>\n",
              "      <th>1995</th>\n",
              "      <td>0.196067</td>\n",
              "      <td>-0.947297</td>\n",
              "    </tr>\n",
              "    <tr>\n",
              "      <th>1996</th>\n",
              "      <td>-0.170756</td>\n",
              "      <td>0.034887</td>\n",
              "    </tr>\n",
              "    <tr>\n",
              "      <th>1997</th>\n",
              "      <td>-0.080179</td>\n",
              "      <td>-0.507170</td>\n",
              "    </tr>\n",
              "    <tr>\n",
              "      <th>1998</th>\n",
              "      <td>-0.165914</td>\n",
              "      <td>0.720349</td>\n",
              "    </tr>\n",
              "    <tr>\n",
              "      <th>1999</th>\n",
              "      <td>-0.195109</td>\n",
              "      <td>0.321225</td>\n",
              "    </tr>\n",
              "  </tbody>\n",
              "</table>\n",
              "<p>2000 rows × 2 columns</p>\n",
              "</div>"
            ],
            "text/plain": [
              "             x         y\n",
              "0     6.665793  6.357639\n",
              "1     5.227300  5.995808\n",
              "2     6.310668  5.639957\n",
              "3     6.132756  6.054274\n",
              "4     6.002146  5.912700\n",
              "...        ...       ...\n",
              "1995  0.196067 -0.947297\n",
              "1996 -0.170756  0.034887\n",
              "1997 -0.080179 -0.507170\n",
              "1998 -0.165914  0.720349\n",
              "1999 -0.195109  0.321225\n",
              "\n",
              "[2000 rows x 2 columns]"
            ]
          },
          "metadata": {
            "tags": []
          },
          "execution_count": 21
        }
      ]
    },
    {
      "cell_type": "code",
      "metadata": {
        "id": "9ueY2hDkAGNQ",
        "colab_type": "code",
        "colab": {
          "base_uri": "https://localhost:8080/",
          "height": 1000
        },
        "outputId": "f358e613-7786-4215-9fec-abc323b4f515"
      },
      "source": [
        "X_outliers = random_seed.uniform(low=-5, high=5,size=(50,2))\n",
        "X_outliers = pd.DataFrame(X_outliers,columns=['x','y'])\n",
        "X_outliers"
      ],
      "execution_count": null,
      "outputs": [
        {
          "output_type": "execute_result",
          "data": {
            "text/html": [
              "<div>\n",
              "<style scoped>\n",
              "    .dataframe tbody tr th:only-of-type {\n",
              "        vertical-align: middle;\n",
              "    }\n",
              "\n",
              "    .dataframe tbody tr th {\n",
              "        vertical-align: top;\n",
              "    }\n",
              "\n",
              "    .dataframe thead th {\n",
              "        text-align: right;\n",
              "    }\n",
              "</style>\n",
              "<table border=\"1\" class=\"dataframe\">\n",
              "  <thead>\n",
              "    <tr style=\"text-align: right;\">\n",
              "      <th></th>\n",
              "      <th>x</th>\n",
              "      <th>y</th>\n",
              "    </tr>\n",
              "  </thead>\n",
              "  <tbody>\n",
              "    <tr>\n",
              "      <th>0</th>\n",
              "      <td>-4.235852</td>\n",
              "      <td>1.315122</td>\n",
              "    </tr>\n",
              "    <tr>\n",
              "      <th>1</th>\n",
              "      <td>0.419512</td>\n",
              "      <td>-1.478789</td>\n",
              "    </tr>\n",
              "    <tr>\n",
              "      <th>2</th>\n",
              "      <td>0.981980</td>\n",
              "      <td>4.342370</td>\n",
              "    </tr>\n",
              "    <tr>\n",
              "      <th>3</th>\n",
              "      <td>-1.256170</td>\n",
              "      <td>-2.912454</td>\n",
              "    </tr>\n",
              "    <tr>\n",
              "      <th>4</th>\n",
              "      <td>-2.849457</td>\n",
              "      <td>2.110645</td>\n",
              "    </tr>\n",
              "    <tr>\n",
              "      <th>5</th>\n",
              "      <td>-2.314576</td>\n",
              "      <td>-2.917982</td>\n",
              "    </tr>\n",
              "    <tr>\n",
              "      <th>6</th>\n",
              "      <td>4.110710</td>\n",
              "      <td>-2.931230</td>\n",
              "    </tr>\n",
              "    <tr>\n",
              "      <th>7</th>\n",
              "      <td>3.813970</td>\n",
              "      <td>3.563253</td>\n",
              "    </tr>\n",
              "    <tr>\n",
              "      <th>8</th>\n",
              "      <td>-1.893092</td>\n",
              "      <td>2.450123</td>\n",
              "    </tr>\n",
              "    <tr>\n",
              "      <th>9</th>\n",
              "      <td>4.829550</td>\n",
              "      <td>4.645128</td>\n",
              "    </tr>\n",
              "    <tr>\n",
              "      <th>10</th>\n",
              "      <td>2.759368</td>\n",
              "      <td>-4.669566</td>\n",
              "    </tr>\n",
              "    <tr>\n",
              "      <th>11</th>\n",
              "      <td>0.322331</td>\n",
              "      <td>-2.978765</td>\n",
              "    </tr>\n",
              "    <tr>\n",
              "      <th>12</th>\n",
              "      <td>-1.727245</td>\n",
              "      <td>1.632761</td>\n",
              "    </tr>\n",
              "    <tr>\n",
              "      <th>13</th>\n",
              "      <td>3.223886</td>\n",
              "      <td>2.548696</td>\n",
              "    </tr>\n",
              "    <tr>\n",
              "      <th>14</th>\n",
              "      <td>-1.028126</td>\n",
              "      <td>-4.429437</td>\n",
              "    </tr>\n",
              "    <tr>\n",
              "      <th>15</th>\n",
              "      <td>-4.539108</td>\n",
              "      <td>2.078987</td>\n",
              "    </tr>\n",
              "    <tr>\n",
              "      <th>16</th>\n",
              "      <td>-3.292508</td>\n",
              "      <td>4.910040</td>\n",
              "    </tr>\n",
              "    <tr>\n",
              "      <th>17</th>\n",
              "      <td>2.037946</td>\n",
              "      <td>-1.460391</td>\n",
              "    </tr>\n",
              "    <tr>\n",
              "      <th>18</th>\n",
              "      <td>-0.740860</td>\n",
              "      <td>-1.880705</td>\n",
              "    </tr>\n",
              "    <tr>\n",
              "      <th>19</th>\n",
              "      <td>3.088601</td>\n",
              "      <td>-0.678751</td>\n",
              "    </tr>\n",
              "    <tr>\n",
              "      <th>20</th>\n",
              "      <td>2.093501</td>\n",
              "      <td>-1.930804</td>\n",
              "    </tr>\n",
              "    <tr>\n",
              "      <th>21</th>\n",
              "      <td>-3.148177</td>\n",
              "      <td>4.171782</td>\n",
              "    </tr>\n",
              "    <tr>\n",
              "      <th>22</th>\n",
              "      <td>-4.222328</td>\n",
              "      <td>3.503284</td>\n",
              "    </tr>\n",
              "    <tr>\n",
              "      <th>23</th>\n",
              "      <td>-4.097165</td>\n",
              "      <td>-3.328982</td>\n",
              "    </tr>\n",
              "    <tr>\n",
              "      <th>24</th>\n",
              "      <td>3.796144</td>\n",
              "      <td>-4.646660</td>\n",
              "    </tr>\n",
              "    <tr>\n",
              "      <th>25</th>\n",
              "      <td>-3.477494</td>\n",
              "      <td>-1.940568</td>\n",
              "    </tr>\n",
              "    <tr>\n",
              "      <th>26</th>\n",
              "      <td>1.167726</td>\n",
              "      <td>-1.859101</td>\n",
              "    </tr>\n",
              "    <tr>\n",
              "      <th>27</th>\n",
              "      <td>-0.013864</td>\n",
              "      <td>-3.483775</td>\n",
              "    </tr>\n",
              "    <tr>\n",
              "      <th>28</th>\n",
              "      <td>4.487195</td>\n",
              "      <td>-0.559867</td>\n",
              "    </tr>\n",
              "    <tr>\n",
              "      <th>29</th>\n",
              "      <td>2.184446</td>\n",
              "      <td>-2.811008</td>\n",
              "    </tr>\n",
              "    <tr>\n",
              "      <th>30</th>\n",
              "      <td>4.329351</td>\n",
              "      <td>2.179456</td>\n",
              "    </tr>\n",
              "    <tr>\n",
              "      <th>31</th>\n",
              "      <td>1.679291</td>\n",
              "      <td>-1.691000</td>\n",
              "    </tr>\n",
              "    <tr>\n",
              "      <th>32</th>\n",
              "      <td>2.227078</td>\n",
              "      <td>4.224204</td>\n",
              "    </tr>\n",
              "    <tr>\n",
              "      <th>33</th>\n",
              "      <td>-1.115421</td>\n",
              "      <td>0.253819</td>\n",
              "    </tr>\n",
              "    <tr>\n",
              "      <th>34</th>\n",
              "      <td>1.178213</td>\n",
              "      <td>0.225639</td>\n",
              "    </tr>\n",
              "    <tr>\n",
              "      <th>35</th>\n",
              "      <td>0.935735</td>\n",
              "      <td>-2.628551</td>\n",
              "    </tr>\n",
              "    <tr>\n",
              "      <th>36</th>\n",
              "      <td>-0.035175</td>\n",
              "      <td>2.539452</td>\n",
              "    </tr>\n",
              "    <tr>\n",
              "      <th>37</th>\n",
              "      <td>-4.956278</td>\n",
              "      <td>-3.683080</td>\n",
              "    </tr>\n",
              "    <tr>\n",
              "      <th>38</th>\n",
              "      <td>-3.460452</td>\n",
              "      <td>4.869131</td>\n",
              "    </tr>\n",
              "    <tr>\n",
              "      <th>39</th>\n",
              "      <td>-2.457123</td>\n",
              "      <td>4.386602</td>\n",
              "    </tr>\n",
              "    <tr>\n",
              "      <th>40</th>\n",
              "      <td>4.420997</td>\n",
              "      <td>-1.891740</td>\n",
              "    </tr>\n",
              "    <tr>\n",
              "      <th>41</th>\n",
              "      <td>2.504152</td>\n",
              "      <td>-0.527829</td>\n",
              "    </tr>\n",
              "    <tr>\n",
              "      <th>42</th>\n",
              "      <td>-2.304249</td>\n",
              "      <td>3.557860</td>\n",
              "    </tr>\n",
              "    <tr>\n",
              "      <th>43</th>\n",
              "      <td>-2.543297</td>\n",
              "      <td>1.708663</td>\n",
              "    </tr>\n",
              "    <tr>\n",
              "      <th>44</th>\n",
              "      <td>-3.365573</td>\n",
              "      <td>-1.057355</td>\n",
              "    </tr>\n",
              "    <tr>\n",
              "      <th>45</th>\n",
              "      <td>1.980240</td>\n",
              "      <td>4.157308</td>\n",
              "    </tr>\n",
              "    <tr>\n",
              "      <th>46</th>\n",
              "      <td>-1.044417</td>\n",
              "      <td>-4.580869</td>\n",
              "    </tr>\n",
              "    <tr>\n",
              "      <th>47</th>\n",
              "      <td>-2.983845</td>\n",
              "      <td>-4.600527</td>\n",
              "    </tr>\n",
              "    <tr>\n",
              "      <th>48</th>\n",
              "      <td>-0.587545</td>\n",
              "      <td>-3.483299</td>\n",
              "    </tr>\n",
              "    <tr>\n",
              "      <th>49</th>\n",
              "      <td>-0.751346</td>\n",
              "      <td>-1.844741</td>\n",
              "    </tr>\n",
              "  </tbody>\n",
              "</table>\n",
              "</div>"
            ],
            "text/plain": [
              "           x         y\n",
              "0  -4.235852  1.315122\n",
              "1   0.419512 -1.478789\n",
              "2   0.981980  4.342370\n",
              "3  -1.256170 -2.912454\n",
              "4  -2.849457  2.110645\n",
              "5  -2.314576 -2.917982\n",
              "6   4.110710 -2.931230\n",
              "7   3.813970  3.563253\n",
              "8  -1.893092  2.450123\n",
              "9   4.829550  4.645128\n",
              "10  2.759368 -4.669566\n",
              "11  0.322331 -2.978765\n",
              "12 -1.727245  1.632761\n",
              "13  3.223886  2.548696\n",
              "14 -1.028126 -4.429437\n",
              "15 -4.539108  2.078987\n",
              "16 -3.292508  4.910040\n",
              "17  2.037946 -1.460391\n",
              "18 -0.740860 -1.880705\n",
              "19  3.088601 -0.678751\n",
              "20  2.093501 -1.930804\n",
              "21 -3.148177  4.171782\n",
              "22 -4.222328  3.503284\n",
              "23 -4.097165 -3.328982\n",
              "24  3.796144 -4.646660\n",
              "25 -3.477494 -1.940568\n",
              "26  1.167726 -1.859101\n",
              "27 -0.013864 -3.483775\n",
              "28  4.487195 -0.559867\n",
              "29  2.184446 -2.811008\n",
              "30  4.329351  2.179456\n",
              "31  1.679291 -1.691000\n",
              "32  2.227078  4.224204\n",
              "33 -1.115421  0.253819\n",
              "34  1.178213  0.225639\n",
              "35  0.935735 -2.628551\n",
              "36 -0.035175  2.539452\n",
              "37 -4.956278 -3.683080\n",
              "38 -3.460452  4.869131\n",
              "39 -2.457123  4.386602\n",
              "40  4.420997 -1.891740\n",
              "41  2.504152 -0.527829\n",
              "42 -2.304249  3.557860\n",
              "43 -2.543297  1.708663\n",
              "44 -3.365573 -1.057355\n",
              "45  1.980240  4.157308\n",
              "46 -1.044417 -4.580869\n",
              "47 -2.983845 -4.600527\n",
              "48 -0.587545 -3.483299\n",
              "49 -0.751346 -1.844741"
            ]
          },
          "metadata": {
            "tags": []
          },
          "execution_count": 23
        }
      ]
    },
    {
      "cell_type": "code",
      "metadata": {
        "id": "O5u1lzJZA1WC",
        "colab_type": "code",
        "colab": {}
      },
      "source": [
        "# X_rain, X_test, X_outliers"
      ],
      "execution_count": null,
      "outputs": []
    },
    {
      "cell_type": "code",
      "metadata": {
        "id": "e2nYIwmnA684",
        "colab_type": "code",
        "colab": {
          "base_uri": "https://localhost:8080/",
          "height": 265
        },
        "outputId": "281f27a2-8730-4c02-d1c2-93762ae752ef"
      },
      "source": [
        "p1 = plt.scatter(X_train.x , X_train.y , c='white',\n",
        "                 s=50, edgecolor='black')\n",
        "p2 = plt.scatter(X_test.x , X_test.y , c='green',\n",
        "                 s=50, edgecolor='black')\n",
        "p3 = plt.scatter(X_outliers.x , X_outliers.y , c='blue',\n",
        "                 s=50, edgecolor='black')"
      ],
      "execution_count": null,
      "outputs": [
        {
          "output_type": "display_data",
          "data": {
            "image/png": "[encoded data removed]",
            "text/plain": [
              "<Figure size 432x288 with 1 Axes>"
            ]
          },
          "metadata": {
            "tags": [],
            "needs_background": "light"
          }
        }
      ]
    },
    {
      "cell_type": "markdown",
      "metadata": {
        "id": "dnM5tNKRBxAv",
        "colab_type": "text"
      },
      "source": [
        "Deep Learning, Tensor Flow , Machine Learning, AI - ensemble learning"
      ]
    },
    {
      "cell_type": "code",
      "metadata": {
        "id": "afkSFPKEB78Y",
        "colab_type": "code",
        "colab": {}
      },
      "source": [
        "from sklearn.ensemble import IsolationForest"
      ],
      "execution_count": null,
      "outputs": []
    },
    {
      "cell_type": "code",
      "metadata": {
        "id": "Jk5IwF98CDVs",
        "colab_type": "code",
        "colab": {
          "base_uri": "https://localhost:8080/",
          "height": 72
        },
        "outputId": "efe6764c-4838-48bc-ccd6-4b47a49c316c"
      },
      "source": [
        "clf = IsolationForest()\n",
        "clf.fit(X_train)"
      ],
      "execution_count": null,
      "outputs": [
        {
          "output_type": "execute_result",
          "data": {
            "text/plain": [
              "IsolationForest(behaviour='deprecated', bootstrap=False, contamination='auto',\n",
              "                max_features=1.0, max_samples='auto', n_estimators=100,\n",
              "                n_jobs=None, random_state=None, verbose=0, warm_start=False)"
            ]
          },
          "metadata": {
            "tags": []
          },
          "execution_count": 28
        }
      ]
    },
    {
      "cell_type": "code",
      "metadata": {
        "id": "cvEQzgq0CQyA",
        "colab_type": "code",
        "colab": {}
      },
      "source": [
        "y_pred_train = clf.predict(X_train)\n",
        "y_pred_test = clf.predict(X_test)\n",
        "y_pred_outliers = clf.predict(X_outliers)"
      ],
      "execution_count": null,
      "outputs": []
    },
    {
      "cell_type": "code",
      "metadata": {
        "id": "mq6Q6dNZCf08",
        "colab_type": "code",
        "colab": {
          "base_uri": "https://localhost:8080/",
          "height": 1000
        },
        "outputId": "3fbffb9d-347f-4019-e7e1-346937dd80bf"
      },
      "source": [
        "X_outliers = X_outliers.assign(pred=y_pred_outliers)\n",
        "X_outliers"
      ],
      "execution_count": null,
      "outputs": [
        {
          "output_type": "execute_result",
          "data": {
            "text/html": [
              "<div>\n",
              "<style scoped>\n",
              "    .dataframe tbody tr th:only-of-type {\n",
              "        vertical-align: middle;\n",
              "    }\n",
              "\n",
              "    .dataframe tbody tr th {\n",
              "        vertical-align: top;\n",
              "    }\n",
              "\n",
              "    .dataframe thead th {\n",
              "        text-align: right;\n",
              "    }\n",
              "</style>\n",
              "<table border=\"1\" class=\"dataframe\">\n",
              "  <thead>\n",
              "    <tr style=\"text-align: right;\">\n",
              "      <th></th>\n",
              "      <th>x</th>\n",
              "      <th>y</th>\n",
              "      <th>pred</th>\n",
              "    </tr>\n",
              "  </thead>\n",
              "  <tbody>\n",
              "    <tr>\n",
              "      <th>0</th>\n",
              "      <td>-4.235852</td>\n",
              "      <td>1.315122</td>\n",
              "      <td>-1</td>\n",
              "    </tr>\n",
              "    <tr>\n",
              "      <th>1</th>\n",
              "      <td>0.419512</td>\n",
              "      <td>-1.478789</td>\n",
              "      <td>-1</td>\n",
              "    </tr>\n",
              "    <tr>\n",
              "      <th>2</th>\n",
              "      <td>0.981980</td>\n",
              "      <td>4.342370</td>\n",
              "      <td>-1</td>\n",
              "    </tr>\n",
              "    <tr>\n",
              "      <th>3</th>\n",
              "      <td>-1.256170</td>\n",
              "      <td>-2.912454</td>\n",
              "      <td>-1</td>\n",
              "    </tr>\n",
              "    <tr>\n",
              "      <th>4</th>\n",
              "      <td>-2.849457</td>\n",
              "      <td>2.110645</td>\n",
              "      <td>-1</td>\n",
              "    </tr>\n",
              "    <tr>\n",
              "      <th>5</th>\n",
              "      <td>-2.314576</td>\n",
              "      <td>-2.917982</td>\n",
              "      <td>-1</td>\n",
              "    </tr>\n",
              "    <tr>\n",
              "      <th>6</th>\n",
              "      <td>4.110710</td>\n",
              "      <td>-2.931230</td>\n",
              "      <td>-1</td>\n",
              "    </tr>\n",
              "    <tr>\n",
              "      <th>7</th>\n",
              "      <td>3.813970</td>\n",
              "      <td>3.563253</td>\n",
              "      <td>-1</td>\n",
              "    </tr>\n",
              "    <tr>\n",
              "      <th>8</th>\n",
              "      <td>-1.893092</td>\n",
              "      <td>2.450123</td>\n",
              "      <td>-1</td>\n",
              "    </tr>\n",
              "    <tr>\n",
              "      <th>9</th>\n",
              "      <td>4.829550</td>\n",
              "      <td>4.645128</td>\n",
              "      <td>-1</td>\n",
              "    </tr>\n",
              "    <tr>\n",
              "      <th>10</th>\n",
              "      <td>2.759368</td>\n",
              "      <td>-4.669566</td>\n",
              "      <td>-1</td>\n",
              "    </tr>\n",
              "    <tr>\n",
              "      <th>11</th>\n",
              "      <td>0.322331</td>\n",
              "      <td>-2.978765</td>\n",
              "      <td>-1</td>\n",
              "    </tr>\n",
              "    <tr>\n",
              "      <th>12</th>\n",
              "      <td>-1.727245</td>\n",
              "      <td>1.632761</td>\n",
              "      <td>-1</td>\n",
              "    </tr>\n",
              "    <tr>\n",
              "      <th>13</th>\n",
              "      <td>3.223886</td>\n",
              "      <td>2.548696</td>\n",
              "      <td>1</td>\n",
              "    </tr>\n",
              "    <tr>\n",
              "      <th>14</th>\n",
              "      <td>-1.028126</td>\n",
              "      <td>-4.429437</td>\n",
              "      <td>-1</td>\n",
              "    </tr>\n",
              "    <tr>\n",
              "      <th>15</th>\n",
              "      <td>-4.539108</td>\n",
              "      <td>2.078987</td>\n",
              "      <td>-1</td>\n",
              "    </tr>\n",
              "    <tr>\n",
              "      <th>16</th>\n",
              "      <td>-3.292508</td>\n",
              "      <td>4.910040</td>\n",
              "      <td>-1</td>\n",
              "    </tr>\n",
              "    <tr>\n",
              "      <th>17</th>\n",
              "      <td>2.037946</td>\n",
              "      <td>-1.460391</td>\n",
              "      <td>-1</td>\n",
              "    </tr>\n",
              "    <tr>\n",
              "      <th>18</th>\n",
              "      <td>-0.740860</td>\n",
              "      <td>-1.880705</td>\n",
              "      <td>-1</td>\n",
              "    </tr>\n",
              "    <tr>\n",
              "      <th>19</th>\n",
              "      <td>3.088601</td>\n",
              "      <td>-0.678751</td>\n",
              "      <td>-1</td>\n",
              "    </tr>\n",
              "    <tr>\n",
              "      <th>20</th>\n",
              "      <td>2.093501</td>\n",
              "      <td>-1.930804</td>\n",
              "      <td>-1</td>\n",
              "    </tr>\n",
              "    <tr>\n",
              "      <th>21</th>\n",
              "      <td>-3.148177</td>\n",
              "      <td>4.171782</td>\n",
              "      <td>-1</td>\n",
              "    </tr>\n",
              "    <tr>\n",
              "      <th>22</th>\n",
              "      <td>-4.222328</td>\n",
              "      <td>3.503284</td>\n",
              "      <td>-1</td>\n",
              "    </tr>\n",
              "    <tr>\n",
              "      <th>23</th>\n",
              "      <td>-4.097165</td>\n",
              "      <td>-3.328982</td>\n",
              "      <td>-1</td>\n",
              "    </tr>\n",
              "    <tr>\n",
              "      <th>24</th>\n",
              "      <td>3.796144</td>\n",
              "      <td>-4.646660</td>\n",
              "      <td>-1</td>\n",
              "    </tr>\n",
              "    <tr>\n",
              "      <th>25</th>\n",
              "      <td>-3.477494</td>\n",
              "      <td>-1.940568</td>\n",
              "      <td>-1</td>\n",
              "    </tr>\n",
              "    <tr>\n",
              "      <th>26</th>\n",
              "      <td>1.167726</td>\n",
              "      <td>-1.859101</td>\n",
              "      <td>-1</td>\n",
              "    </tr>\n",
              "    <tr>\n",
              "      <th>27</th>\n",
              "      <td>-0.013864</td>\n",
              "      <td>-3.483775</td>\n",
              "      <td>-1</td>\n",
              "    </tr>\n",
              "    <tr>\n",
              "      <th>28</th>\n",
              "      <td>4.487195</td>\n",
              "      <td>-0.559867</td>\n",
              "      <td>-1</td>\n",
              "    </tr>\n",
              "    <tr>\n",
              "      <th>29</th>\n",
              "      <td>2.184446</td>\n",
              "      <td>-2.811008</td>\n",
              "      <td>-1</td>\n",
              "    </tr>\n",
              "    <tr>\n",
              "      <th>30</th>\n",
              "      <td>4.329351</td>\n",
              "      <td>2.179456</td>\n",
              "      <td>-1</td>\n",
              "    </tr>\n",
              "    <tr>\n",
              "      <th>31</th>\n",
              "      <td>1.679291</td>\n",
              "      <td>-1.691000</td>\n",
              "      <td>-1</td>\n",
              "    </tr>\n",
              "    <tr>\n",
              "      <th>32</th>\n",
              "      <td>2.227078</td>\n",
              "      <td>4.224204</td>\n",
              "      <td>-1</td>\n",
              "    </tr>\n",
              "    <tr>\n",
              "      <th>33</th>\n",
              "      <td>-1.115421</td>\n",
              "      <td>0.253819</td>\n",
              "      <td>-1</td>\n",
              "    </tr>\n",
              "    <tr>\n",
              "      <th>34</th>\n",
              "      <td>1.178213</td>\n",
              "      <td>0.225639</td>\n",
              "      <td>-1</td>\n",
              "    </tr>\n",
              "    <tr>\n",
              "      <th>35</th>\n",
              "      <td>0.935735</td>\n",
              "      <td>-2.628551</td>\n",
              "      <td>-1</td>\n",
              "    </tr>\n",
              "    <tr>\n",
              "      <th>36</th>\n",
              "      <td>-0.035175</td>\n",
              "      <td>2.539452</td>\n",
              "      <td>-1</td>\n",
              "    </tr>\n",
              "    <tr>\n",
              "      <th>37</th>\n",
              "      <td>-4.956278</td>\n",
              "      <td>-3.683080</td>\n",
              "      <td>-1</td>\n",
              "    </tr>\n",
              "    <tr>\n",
              "      <th>38</th>\n",
              "      <td>-3.460452</td>\n",
              "      <td>4.869131</td>\n",
              "      <td>-1</td>\n",
              "    </tr>\n",
              "    <tr>\n",
              "      <th>39</th>\n",
              "      <td>-2.457123</td>\n",
              "      <td>4.386602</td>\n",
              "      <td>-1</td>\n",
              "    </tr>\n",
              "    <tr>\n",
              "      <th>40</th>\n",
              "      <td>4.420997</td>\n",
              "      <td>-1.891740</td>\n",
              "      <td>-1</td>\n",
              "    </tr>\n",
              "    <tr>\n",
              "      <th>41</th>\n",
              "      <td>2.504152</td>\n",
              "      <td>-0.527829</td>\n",
              "      <td>-1</td>\n",
              "    </tr>\n",
              "    <tr>\n",
              "      <th>42</th>\n",
              "      <td>-2.304249</td>\n",
              "      <td>3.557860</td>\n",
              "      <td>-1</td>\n",
              "    </tr>\n",
              "    <tr>\n",
              "      <th>43</th>\n",
              "      <td>-2.543297</td>\n",
              "      <td>1.708663</td>\n",
              "      <td>-1</td>\n",
              "    </tr>\n",
              "    <tr>\n",
              "      <th>44</th>\n",
              "      <td>-3.365573</td>\n",
              "      <td>-1.057355</td>\n",
              "      <td>-1</td>\n",
              "    </tr>\n",
              "    <tr>\n",
              "      <th>45</th>\n",
              "      <td>1.980240</td>\n",
              "      <td>4.157308</td>\n",
              "      <td>-1</td>\n",
              "    </tr>\n",
              "    <tr>\n",
              "      <th>46</th>\n",
              "      <td>-1.044417</td>\n",
              "      <td>-4.580869</td>\n",
              "      <td>-1</td>\n",
              "    </tr>\n",
              "    <tr>\n",
              "      <th>47</th>\n",
              "      <td>-2.983845</td>\n",
              "      <td>-4.600527</td>\n",
              "      <td>-1</td>\n",
              "    </tr>\n",
              "    <tr>\n",
              "      <th>48</th>\n",
              "      <td>-0.587545</td>\n",
              "      <td>-3.483299</td>\n",
              "      <td>-1</td>\n",
              "    </tr>\n",
              "    <tr>\n",
              "      <th>49</th>\n",
              "      <td>-0.751346</td>\n",
              "      <td>-1.844741</td>\n",
              "      <td>-1</td>\n",
              "    </tr>\n",
              "  </tbody>\n",
              "</table>\n",
              "</div>"
            ],
            "text/plain": [
              "           x         y  pred\n",
              "0  -4.235852  1.315122    -1\n",
              "1   0.419512 -1.478789    -1\n",
              "2   0.981980  4.342370    -1\n",
              "3  -1.256170 -2.912454    -1\n",
              "4  -2.849457  2.110645    -1\n",
              "5  -2.314576 -2.917982    -1\n",
              "6   4.110710 -2.931230    -1\n",
              "7   3.813970  3.563253    -1\n",
              "8  -1.893092  2.450123    -1\n",
              "9   4.829550  4.645128    -1\n",
              "10  2.759368 -4.669566    -1\n",
              "11  0.322331 -2.978765    -1\n",
              "12 -1.727245  1.632761    -1\n",
              "13  3.223886  2.548696     1\n",
              "14 -1.028126 -4.429437    -1\n",
              "15 -4.539108  2.078987    -1\n",
              "16 -3.292508  4.910040    -1\n",
              "17  2.037946 -1.460391    -1\n",
              "18 -0.740860 -1.880705    -1\n",
              "19  3.088601 -0.678751    -1\n",
              "20  2.093501 -1.930804    -1\n",
              "21 -3.148177  4.171782    -1\n",
              "22 -4.222328  3.503284    -1\n",
              "23 -4.097165 -3.328982    -1\n",
              "24  3.796144 -4.646660    -1\n",
              "25 -3.477494 -1.940568    -1\n",
              "26  1.167726 -1.859101    -1\n",
              "27 -0.013864 -3.483775    -1\n",
              "28  4.487195 -0.559867    -1\n",
              "29  2.184446 -2.811008    -1\n",
              "30  4.329351  2.179456    -1\n",
              "31  1.679291 -1.691000    -1\n",
              "32  2.227078  4.224204    -1\n",
              "33 -1.115421  0.253819    -1\n",
              "34  1.178213  0.225639    -1\n",
              "35  0.935735 -2.628551    -1\n",
              "36 -0.035175  2.539452    -1\n",
              "37 -4.956278 -3.683080    -1\n",
              "38 -3.460452  4.869131    -1\n",
              "39 -2.457123  4.386602    -1\n",
              "40  4.420997 -1.891740    -1\n",
              "41  2.504152 -0.527829    -1\n",
              "42 -2.304249  3.557860    -1\n",
              "43 -2.543297  1.708663    -1\n",
              "44 -3.365573 -1.057355    -1\n",
              "45  1.980240  4.157308    -1\n",
              "46 -1.044417 -4.580869    -1\n",
              "47 -2.983845 -4.600527    -1\n",
              "48 -0.587545 -3.483299    -1\n",
              "49 -0.751346 -1.844741    -1"
            ]
          },
          "metadata": {
            "tags": []
          },
          "execution_count": 31
        }
      ]
    },
    {
      "cell_type": "code",
      "metadata": {
        "id": "c4E3xOecEH5Q",
        "colab_type": "code",
        "colab": {
          "base_uri": "https://localhost:8080/",
          "height": 265
        },
        "outputId": "eec4385a-2310-406e-f02c-de844cf0d8ef"
      },
      "source": [
        "p1 = plt.scatter(X_train.x, X_train.y, c='white',\n",
        "                 s=50,edgecolor='black')\n",
        "p2 = plt.scatter(X_outliers.loc[X_outliers.pred == -1 ,['x']],\n",
        "                 X_outliers.loc[X_outliers.pred == -1, ['y']],\n",
        "                 c='blue',s=50,edgecolor='black')\n",
        "p3 = plt.scatter(X_outliers.loc[X_outliers.pred == 1 ,['x']],\n",
        "                 X_outliers.loc[X_outliers.pred == 1, ['y']],\n",
        "                 c='red',s=50,edgecolor='black')"
      ],
      "execution_count": null,
      "outputs": [
        {
          "output_type": "display_data",
          "data": {
            "image/png": "[encoded data removed]",
            "text/plain": [
              "<Figure size 432x288 with 1 Axes>"
            ]
          },
          "metadata": {
            "tags": [],
            "needs_background": "light"
          }
        }
      ]
    },
    {
      "cell_type": "code",
      "metadata": {
        "id": "zfysTY-WF34l",
        "colab_type": "code",
        "colab": {
          "base_uri": "https://localhost:8080/",
          "height": 198
        },
        "outputId": "d6778219-08b3-4271-d3bb-aebf162a58de"
      },
      "source": [
        "X_test = X_test.assign(pred = y_pred_test)\n",
        "X_test.head()"
      ],
      "execution_count": null,
      "outputs": [
        {
          "output_type": "execute_result",
          "data": {
            "text/html": [
              "<div>\n",
              "<style scoped>\n",
              "    .dataframe tbody tr th:only-of-type {\n",
              "        vertical-align: middle;\n",
              "    }\n",
              "\n",
              "    .dataframe tbody tr th {\n",
              "        vertical-align: top;\n",
              "    }\n",
              "\n",
              "    .dataframe thead th {\n",
              "        text-align: right;\n",
              "    }\n",
              "</style>\n",
              "<table border=\"1\" class=\"dataframe\">\n",
              "  <thead>\n",
              "    <tr style=\"text-align: right;\">\n",
              "      <th></th>\n",
              "      <th>x</th>\n",
              "      <th>y</th>\n",
              "      <th>pred</th>\n",
              "    </tr>\n",
              "  </thead>\n",
              "  <tbody>\n",
              "    <tr>\n",
              "      <th>0</th>\n",
              "      <td>6.665793</td>\n",
              "      <td>6.357639</td>\n",
              "      <td>-1</td>\n",
              "    </tr>\n",
              "    <tr>\n",
              "      <th>1</th>\n",
              "      <td>5.227300</td>\n",
              "      <td>5.995808</td>\n",
              "      <td>-1</td>\n",
              "    </tr>\n",
              "    <tr>\n",
              "      <th>2</th>\n",
              "      <td>6.310668</td>\n",
              "      <td>5.639957</td>\n",
              "      <td>-1</td>\n",
              "    </tr>\n",
              "    <tr>\n",
              "      <th>3</th>\n",
              "      <td>6.132756</td>\n",
              "      <td>6.054274</td>\n",
              "      <td>-1</td>\n",
              "    </tr>\n",
              "    <tr>\n",
              "      <th>4</th>\n",
              "      <td>6.002146</td>\n",
              "      <td>5.912700</td>\n",
              "      <td>-1</td>\n",
              "    </tr>\n",
              "  </tbody>\n",
              "</table>\n",
              "</div>"
            ],
            "text/plain": [
              "          x         y  pred\n",
              "0  6.665793  6.357639    -1\n",
              "1  5.227300  5.995808    -1\n",
              "2  6.310668  5.639957    -1\n",
              "3  6.132756  6.054274    -1\n",
              "4  6.002146  5.912700    -1"
            ]
          },
          "metadata": {
            "tags": []
          },
          "execution_count": 37
        }
      ]
    },
    {
      "cell_type": "code",
      "metadata": {
        "id": "uVj2dC8fGAs1",
        "colab_type": "code",
        "colab": {
          "base_uri": "https://localhost:8080/",
          "height": 265
        },
        "outputId": "a3767071-2895-4656-cc63-6eeefe477dfa"
      },
      "source": [
        "p1 = plt.scatter(X_train.x, X_train.y , c= 'white',\n",
        "                 s=50 , edgecolor='black')\n",
        "p2 = plt.scatter(X_test.loc[X_test.pred == 1, ['x']],\n",
        "                 X_test.loc[X_test.pred ==1 ,['y']],\n",
        "                 c = 'red',s=50 , edgecolor='blue')\n",
        "p3 = plt.scatter(X_test.loc[X_test.pred == -1, ['x']],\n",
        "                 X_test.loc[X_test.pred == -1 ,['y']],\n",
        "                 c = 'green',s=50 , edgecolor='blue')"
      ],
      "execution_count": null,
      "outputs": [
        {
          "output_type": "display_data",
          "data": {
            "image/png": "[encoded data removed]",
            "text/plain": [
              "<Figure size 432x288 with 1 Axes>"
            ]
          },
          "metadata": {
            "tags": [],
            "needs_background": "light"
          }
        }
      ]
    }
  ]
}